{
 "cells": [
  {
   "cell_type": "markdown",
   "metadata": {},
   "source": [
    "# Analysis of 20 most popular users on Twitter"
   ]
  },
  {
   "cell_type": "markdown",
   "metadata": {},
   "source": [
    "### Content\n",
    "+ Introduction: What is Twitter?\n",
    "+ Data description\n",
    "+ Data preparation"
   ]
  },
  {
   "cell_type": "markdown",
   "metadata": {},
   "source": [
    "# Introduction: What is Twitter?"
   ]
  },
  {
   "cell_type": "markdown",
   "metadata": {},
   "source": [
    "Twitter is an American microblogging and social networking service on which users post and interact with messages known as \"tweets\". Registered users can post, like and retweet tweets, but unregistered users can only read them. Users access Twitter through its website interface, through Short Message Service (SMS) or its mobile-device application software (\"app\"). Twitter, Inc. is based in San Francisco, California, and has more than 25 offices around the world. Tweets were originally restricted to 140 characters, but was doubled to 280 for non-CJK languages in November 2017. Audio and video tweets remain limited to 140 seconds for most accounts.\n",
    "\n",
    "Twitter was created by Jack Dorsey, Noah Glass, Biz Stone, and Evan Williams in March 2006 and launched in July of that year. By 2012, more than 100 million users posted 340 million tweets a day, and the service handled an average of 1.6 billion search queries per day. In 2013, it was one of the ten most-visited websites and has been described as \"the SMS of the Internet\". As of 2018, Twitter had more than 321 million monthly active users.\n",
    "    \n",
    "    (the information was taken from Wikipedia.com)"
   ]
  },
  {
   "cell_type": "markdown",
   "metadata": {},
   "source": [
    "# Data Description "
   ]
  },
  {
   "cell_type": "markdown",
   "metadata": {},
   "source": [
    "Twitter is one of the most popular social networks in the world, but who among millions of people is the most popular? \n",
    "This project is aimed at analyzing the most readable users and is based on a ready-made dataset. \n",
    "    (source: https://www.kaggle.com/mmmarchetti/tweets-dataset)\n",
    "\n",
    "### The attributes:\n",
    "+ Name (Personal information)\n",
    "+ ID (username)\n",
    "+ Language (of the post)\n",
    "+ Time (When the twit was published)\n",
    "+ Followers (number of followers)\n",
    "+ Likes (Number of likes)\n",
    "+ Shares (Number of shares)\n",
    "+ Hashtags (Which hashtags are used in posts)\n",
    "\n",
    "Dataset size: over 50,000.\n"
   ]
  },
  {
   "cell_type": "markdown",
   "metadata": {},
   "source": [
    "#### The 3 objectives of this analysis:\n",
    "1. Define most usable hashtags on a person's page.\n",
    "2. Compare the number of likes with the number of followers\n",
    "3. Find the most liked or shared posts on the user's page."
   ]
  },
  {
   "cell_type": "markdown",
   "metadata": {},
   "source": [
    "# Data Preparation"
   ]
  },
  {
   "cell_type": "code",
   "execution_count": null,
   "metadata": {},
   "outputs": [],
   "source": []
  }
 ],
 "metadata": {
  "kernelspec": {
   "display_name": "Python 3",
   "language": "python",
   "name": "python3"
  },
  "language_info": {
   "codemirror_mode": {
    "name": "ipython",
    "version": 3
   },
   "file_extension": ".py",
   "mimetype": "text/x-python",
   "name": "python",
   "nbconvert_exporter": "python",
   "pygments_lexer": "ipython3",
   "version": "3.8.3"
  }
 },
 "nbformat": 4,
 "nbformat_minor": 4
}
