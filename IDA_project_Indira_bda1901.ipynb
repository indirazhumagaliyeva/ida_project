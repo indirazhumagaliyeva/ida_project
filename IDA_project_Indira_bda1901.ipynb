{
 "cells": [
  {
   "cell_type": "code",
   "execution_count": 2,
   "metadata": {},
   "outputs": [
    {
     "name": "stdout",
     "output_type": "stream",
     "text": [
      "This is an analysis for most popular peple on Twitter. This analysis is made by Zhumagaliyeva Indira BDA-1901 for "introduction to Data analysis" class\n"
     ]
    }
   ],
   "source": [
    "print('This is an analysis for most popular peple on Twitter. This analysis is made by Zhumagaliyeva Indira BDA-1901 for "introduction to Data analysis" class')"
   ]
  },
  {
   "cell_type": "code",
   "execution_count": null,
   "metadata": {},
   "outputs": [],
   "source": []
  }
 ],
 "metadata": {
  "kernelspec": {
   "display_name": "Python 3",
   "language": "python",
   "name": "python3"
  },
  "language_info": {
   "codemirror_mode": {
    "name": "ipython",
    "version": 3
   },
   "file_extension": ".py",
   "mimetype": "text/x-python",
   "name": "python",
   "nbconvert_exporter": "python",
   "pygments_lexer": "ipython3",
   "version": "3.8.3"
  }
 },
 "nbformat": 4,
 "nbformat_minor": 4
}
